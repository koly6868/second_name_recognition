{
 "cells": [
  {
   "cell_type": "code",
   "execution_count": 20,
   "metadata": {
    "ExecuteTime": {
     "end_time": "2019-12-04T13:27:58.348637Z",
     "start_time": "2019-12-04T13:27:58.342657Z"
    }
   },
   "outputs": [],
   "source": [
    "import numpy as np\n",
    "from xgboost import XGBClassifier\n",
    "from pandas import read_csv, DataFrame, Series, concat\n",
    "from sklearn.model_selection import train_test_split\n",
    "from sklearn.metrics import make_scorer, auc, roc_curve, roc_auc_score, precision_score, recall_score, f1_score\n",
    "from joblib import dump, load\n",
    "from collections import Counter\n",
    "from sklearn.feature_extraction.text import TfidfVectorizer \n",
    "from imblearn.over_sampling import RandomOverSampler\n",
    "from matplotlib import pyplot\n",
    "from scipy.sparse.csr import csr_matrix\n",
    "from scipy.sparse import hstack"
   ]
  },
  {
   "cell_type": "code",
   "execution_count": 3,
   "metadata": {
    "ExecuteTime": {
     "end_time": "2019-12-04T13:15:43.524765Z",
     "start_time": "2019-12-04T13:15:43.521767Z"
    }
   },
   "outputs": [],
   "source": [
    "PRED_FILENAME = 'linear_test.txt'\n",
    "TRAIN_FILENAME = 'linear_train.txt'\n",
    "RANDOM_STATE = 41"
   ]
  },
  {
   "cell_type": "code",
   "execution_count": 4,
   "metadata": {
    "ExecuteTime": {
     "end_time": "2019-12-04T13:15:43.541753Z",
     "start_time": "2019-12-04T13:15:43.535758Z"
    }
   },
   "outputs": [],
   "source": [
    "def extract_substrings(x,sub_len=2):\n",
    "    res = set()\n",
    "    for w in x:\n",
    "        for i in range(len(w)-sub_len):\n",
    "            if all([let.isalpha() for let in w[i:i+sub_len]]):\n",
    "                res.add(w[i:i+sub_len])\n",
    "    return res"
   ]
  },
  {
   "cell_type": "code",
   "execution_count": 5,
   "metadata": {
    "ExecuteTime": {
     "end_time": "2019-12-04T13:15:43.555759Z",
     "start_time": "2019-12-04T13:15:43.549764Z"
    }
   },
   "outputs": [],
   "source": [
    "def where_ind(x,pred):\n",
    "    ind = np.full(len(x),0)\n",
    "    for i,e in enumerate(x):\n",
    "        if pred(e):\n",
    "            ind[i] = 1\n",
    "    return ind.astype(bool)"
   ]
  },
  {
   "cell_type": "code",
   "execution_count": 6,
   "metadata": {
    "ExecuteTime": {
     "end_time": "2019-12-04T13:15:43.569744Z",
     "start_time": "2019-12-04T13:15:43.564740Z"
    }
   },
   "outputs": [],
   "source": [
    "def custom_stem(word):\n",
    "    endings = ['а']\n",
    "    \n",
    "    word = word.lower()\n",
    "    for ending in endings:\n",
    "        if word.endswith(ending):\n",
    "            word = word[:-len(ending)]\n",
    "            break\n",
    "    return word"
   ]
  },
  {
   "cell_type": "code",
   "execution_count": 16,
   "metadata": {
    "ExecuteTime": {
     "end_time": "2019-12-04T13:22:03.711503Z",
     "start_time": "2019-12-04T13:22:03.705489Z"
    }
   },
   "outputs": [],
   "source": [
    "def show_history(model,metrics):\n",
    "    results = model.evals_result()\n",
    "    epochs = len(results['validation_0'][metrics[0]])\n",
    "    x_axis = range(0, epochs)\n",
    "    # plot log loss\n",
    "    for metric in metrics:\n",
    "        fig, ax = pyplot.subplots()\n",
    "        ax.plot(x_axis, results['validation_0'][metric], label='Train')\n",
    "        ax.plot(x_axis, results['validation_1'][metric], label='Test')\n",
    "        ax.legend()\n",
    "        pyplot.ylabel(metric)\n",
    "        pyplot.title(metric)\n",
    "        pyplot.show()"
   ]
  },
  {
   "cell_type": "markdown",
   "metadata": {},
   "source": [
    "# Loading and first processing of data"
   ]
  },
  {
   "cell_type": "code",
   "execution_count": 7,
   "metadata": {
    "ExecuteTime": {
     "end_time": "2019-12-04T13:15:44.106892Z",
     "start_time": "2019-12-04T13:15:43.576750Z"
    }
   },
   "outputs": [],
   "source": [
    "data = read_csv(TRAIN_FILENAME,header=None,names=['str','is_ser'])\n",
    "data = data.dropna()\n",
    "x = DataFrame(data.iloc[:,0])\n",
    "y = data.iloc[:,1]\n",
    "\n",
    "is_titled = x.iloc[:,0].map(str.istitle)\n",
    "# steaming\n",
    "x.iloc[:,0] = x.iloc[:,0].map(custom_stem)\n",
    "\n",
    "#drop dublicates\n",
    "x['is_titled'] = is_titled\n",
    "x = x.drop_duplicates()\n",
    "is_titled = np.array(x.iloc[:,1])\n",
    "x = x.iloc[:,0]\n",
    "y = y[x.index]\n",
    "\n",
    "is_alpha = where_ind(x,lambda w: all([i.isalpha() for i in w]))\n",
    "lens = x.map(len)\n",
    "\n",
    "lens = lens[is_alpha]\n",
    "x = x[is_alpha]\n",
    "y = y[is_alpha]\n",
    "is_titled = is_titled[is_alpha]\n",
    "\n",
    "add_f = np.stack((is_titled,lens),axis=1)\n",
    "train_x, val_x, train_y, val_y,train_add_f,val_add_f = train_test_split(x,y,add_f,test_size=0.1)"
   ]
  },
  {
   "cell_type": "markdown",
   "metadata": {},
   "source": [
    "# Feature creation"
   ]
  },
  {
   "cell_type": "code",
   "execution_count": 38,
   "metadata": {
    "ExecuteTime": {
     "end_time": "2019-12-04T13:33:18.686945Z",
     "start_time": "2019-12-04T13:33:15.093019Z"
    }
   },
   "outputs": [
    {
     "name": "stdout",
     "output_type": "stream",
     "text": [
      "<class 'scipy.sparse.csr.csr_matrix'>\n",
      "count features: 566\n"
     ]
    }
   ],
   "source": [
    "vect = TfidfVectorizer(analyzer='char_wb',ngram_range=(1,4),strip_accents='unicode',min_df=0.001)\n",
    "vect.fit_transform(train_x)\n",
    "p_train_x = vect.transform(train_x)\n",
    "p_val_x = vect.transform(val_x)\n",
    "print(type(p_train_x))\n",
    "print(f'count features: {p_train_x.shape[1]}')"
   ]
  },
  {
   "cell_type": "code",
   "execution_count": 39,
   "metadata": {
    "ExecuteTime": {
     "end_time": "2019-12-04T13:33:18.947794Z",
     "start_time": "2019-12-04T13:33:18.846856Z"
    }
   },
   "outputs": [
    {
     "data": {
      "text/plain": [
       "(84204, 568)"
      ]
     },
     "execution_count": 39,
     "metadata": {},
     "output_type": "execute_result"
    }
   ],
   "source": [
    "# concat features\n",
    "p_train_x = hstack((\n",
    "    p_train_x,\n",
    "    csr_matrix(train_add_f.astype(float))))\n",
    "\n",
    "p_val_x = hstack((\n",
    "    p_val_x,\n",
    "    csr_matrix(val_add_f.astype(float))))\n",
    "p_train_x.shape"
   ]
  },
  {
   "cell_type": "code",
   "execution_count": 40,
   "metadata": {
    "ExecuteTime": {
     "end_time": "2019-12-04T13:33:19.202660Z",
     "start_time": "2019-12-04T13:33:19.069738Z"
    }
   },
   "outputs": [],
   "source": [
    "ros = RandomOverSampler(random_state=RANDOM_STATE)\n",
    "rp_train_x, rtrain_y = ros.fit_resample(p_train_x, train_y)"
   ]
  },
  {
   "cell_type": "code",
   "execution_count": 34,
   "metadata": {
    "ExecuteTime": {
     "end_time": "2019-12-04T13:32:47.219320Z",
     "start_time": "2019-12-04T13:31:37.164245Z"
    }
   },
   "outputs": [
    {
     "name": "stdout",
     "output_type": "stream",
     "text": [
      "[16:31:39] INFO: C:\\Jenkins\\workspace\\xgboost-win64_release_0.90\\src\\tree\\updater_prune.cc:74: tree pruning end, 1 roots, 866 extra nodes, 6 pruned nodes, max_depth=20\n",
      "[0]\tvalidation_0-logloss:0.687509\tvalidation_0-map:0.894454\tvalidation_1-logloss:0.687697\tvalidation_1-map:0.42163\n",
      "[16:31:40] INFO: C:\\Jenkins\\workspace\\xgboost-win64_release_0.90\\src\\tree\\updater_prune.cc:74: tree pruning end, 1 roots, 844 extra nodes, 0 pruned nodes, max_depth=20\n",
      "[1]\tvalidation_0-logloss:0.682006\tvalidation_0-map:0.89471\tvalidation_1-logloss:0.682399\tvalidation_1-map:0.425408\n",
      "[16:31:41] INFO: C:\\Jenkins\\workspace\\xgboost-win64_release_0.90\\src\\tree\\updater_prune.cc:74: tree pruning end, 1 roots, 866 extra nodes, 4 pruned nodes, max_depth=20\n",
      "[2]\tvalidation_0-logloss:0.676586\tvalidation_0-map:0.892557\tvalidation_1-logloss:0.677183\tvalidation_1-map:0.431744\n",
      "[16:31:41] INFO: C:\\Jenkins\\workspace\\xgboost-win64_release_0.90\\src\\tree\\updater_prune.cc:74: tree pruning end, 1 roots, 862 extra nodes, 6 pruned nodes, max_depth=20\n",
      "[3]\tvalidation_0-logloss:0.671286\tvalidation_0-map:0.902657\tvalidation_1-logloss:0.672092\tvalidation_1-map:0.440734\n",
      "[16:31:42] INFO: C:\\Jenkins\\workspace\\xgboost-win64_release_0.90\\src\\tree\\updater_prune.cc:74: tree pruning end, 1 roots, 882 extra nodes, 2 pruned nodes, max_depth=20\n",
      "[4]\tvalidation_0-logloss:0.666067\tvalidation_0-map:0.908043\tvalidation_1-logloss:0.667101\tvalidation_1-map:0.457328\n",
      "[16:31:43] INFO: C:\\Jenkins\\workspace\\xgboost-win64_release_0.90\\src\\tree\\updater_prune.cc:74: tree pruning end, 1 roots, 880 extra nodes, 6 pruned nodes, max_depth=20\n",
      "[5]\tvalidation_0-logloss:0.660953\tvalidation_0-map:0.909004\tvalidation_1-logloss:0.662209\tvalidation_1-map:0.458986\n",
      "[16:31:43] INFO: C:\\Jenkins\\workspace\\xgboost-win64_release_0.90\\src\\tree\\updater_prune.cc:74: tree pruning end, 1 roots, 882 extra nodes, 4 pruned nodes, max_depth=20\n",
      "[6]\tvalidation_0-logloss:0.655911\tvalidation_0-map:0.909275\tvalidation_1-logloss:0.657402\tvalidation_1-map:0.460031\n",
      "[16:31:44] INFO: C:\\Jenkins\\workspace\\xgboost-win64_release_0.90\\src\\tree\\updater_prune.cc:74: tree pruning end, 1 roots, 904 extra nodes, 10 pruned nodes, max_depth=20\n",
      "[7]\tvalidation_0-logloss:0.650974\tvalidation_0-map:0.909936\tvalidation_1-logloss:0.652695\tvalidation_1-map:0.459587\n",
      "[16:31:44] INFO: C:\\Jenkins\\workspace\\xgboost-win64_release_0.90\\src\\tree\\updater_prune.cc:74: tree pruning end, 1 roots, 898 extra nodes, 6 pruned nodes, max_depth=20\n",
      "[8]\tvalidation_0-logloss:0.646117\tvalidation_0-map:0.910959\tvalidation_1-logloss:0.648094\tvalidation_1-map:0.465635\n",
      "[16:31:45] INFO: C:\\Jenkins\\workspace\\xgboost-win64_release_0.90\\src\\tree\\updater_prune.cc:74: tree pruning end, 1 roots, 902 extra nodes, 10 pruned nodes, max_depth=20\n",
      "[9]\tvalidation_0-logloss:0.641331\tvalidation_0-map:0.911226\tvalidation_1-logloss:0.64357\tvalidation_1-map:0.461886\n",
      "[16:31:46] INFO: C:\\Jenkins\\workspace\\xgboost-win64_release_0.90\\src\\tree\\updater_prune.cc:74: tree pruning end, 1 roots, 874 extra nodes, 4 pruned nodes, max_depth=20\n",
      "[10]\tvalidation_0-logloss:0.636651\tvalidation_0-map:0.910708\tvalidation_1-logloss:0.639139\tvalidation_1-map:0.460801\n",
      "[16:31:47] INFO: C:\\Jenkins\\workspace\\xgboost-win64_release_0.90\\src\\tree\\updater_prune.cc:74: tree pruning end, 1 roots, 882 extra nodes, 6 pruned nodes, max_depth=20\n",
      "[11]\tvalidation_0-logloss:0.632048\tvalidation_0-map:0.911397\tvalidation_1-logloss:0.634802\tvalidation_1-map:0.463071\n",
      "[16:31:47] INFO: C:\\Jenkins\\workspace\\xgboost-win64_release_0.90\\src\\tree\\updater_prune.cc:74: tree pruning end, 1 roots, 882 extra nodes, 4 pruned nodes, max_depth=20\n",
      "[12]\tvalidation_0-logloss:0.627509\tvalidation_0-map:0.912584\tvalidation_1-logloss:0.63054\tvalidation_1-map:0.463401\n",
      "[16:31:48] INFO: C:\\Jenkins\\workspace\\xgboost-win64_release_0.90\\src\\tree\\updater_prune.cc:74: tree pruning end, 1 roots, 900 extra nodes, 8 pruned nodes, max_depth=20\n",
      "[13]\tvalidation_0-logloss:0.623054\tvalidation_0-map:0.912734\tvalidation_1-logloss:0.626355\tvalidation_1-map:0.466614\n",
      "[16:31:49] INFO: C:\\Jenkins\\workspace\\xgboost-win64_release_0.90\\src\\tree\\updater_prune.cc:74: tree pruning end, 1 roots, 880 extra nodes, 4 pruned nodes, max_depth=20\n",
      "[14]\tvalidation_0-logloss:0.618691\tvalidation_0-map:0.913135\tvalidation_1-logloss:0.622265\tvalidation_1-map:0.466773\n",
      "[16:31:50] INFO: C:\\Jenkins\\workspace\\xgboost-win64_release_0.90\\src\\tree\\updater_prune.cc:74: tree pruning end, 1 roots, 900 extra nodes, 2 pruned nodes, max_depth=20\n",
      "[15]\tvalidation_0-logloss:0.614374\tvalidation_0-map:0.913423\tvalidation_1-logloss:0.618223\tvalidation_1-map:0.466924\n",
      "[16:31:50] INFO: C:\\Jenkins\\workspace\\xgboost-win64_release_0.90\\src\\tree\\updater_prune.cc:74: tree pruning end, 1 roots, 888 extra nodes, 8 pruned nodes, max_depth=20\n",
      "[16]\tvalidation_0-logloss:0.61013\tvalidation_0-map:0.913732\tvalidation_1-logloss:0.614217\tvalidation_1-map:0.466089\n",
      "[16:31:51] INFO: C:\\Jenkins\\workspace\\xgboost-win64_release_0.90\\src\\tree\\updater_prune.cc:74: tree pruning end, 1 roots, 906 extra nodes, 2 pruned nodes, max_depth=20\n",
      "[17]\tvalidation_0-logloss:0.605945\tvalidation_0-map:0.914167\tvalidation_1-logloss:0.610324\tvalidation_1-map:0.468533\n",
      "[16:31:52] INFO: C:\\Jenkins\\workspace\\xgboost-win64_release_0.90\\src\\tree\\updater_prune.cc:74: tree pruning end, 1 roots, 920 extra nodes, 0 pruned nodes, max_depth=20\n",
      "[18]\tvalidation_0-logloss:0.601829\tvalidation_0-map:0.91442\tvalidation_1-logloss:0.606486\tvalidation_1-map:0.470346\n",
      "[16:31:53] INFO: C:\\Jenkins\\workspace\\xgboost-win64_release_0.90\\src\\tree\\updater_prune.cc:74: tree pruning end, 1 roots, 878 extra nodes, 6 pruned nodes, max_depth=20\n",
      "[19]\tvalidation_0-logloss:0.597747\tvalidation_0-map:0.916081\tvalidation_1-logloss:0.602668\tvalidation_1-map:0.475603\n",
      "[16:31:54] INFO: C:\\Jenkins\\workspace\\xgboost-win64_release_0.90\\src\\tree\\updater_prune.cc:74: tree pruning end, 1 roots, 898 extra nodes, 6 pruned nodes, max_depth=20\n",
      "[20]\tvalidation_0-logloss:0.593772\tvalidation_0-map:0.916224\tvalidation_1-logloss:0.598937\tvalidation_1-map:0.476398\n",
      "[16:31:54] INFO: C:\\Jenkins\\workspace\\xgboost-win64_release_0.90\\src\\tree\\updater_prune.cc:74: tree pruning end, 1 roots, 872 extra nodes, 10 pruned nodes, max_depth=20\n",
      "[21]\tvalidation_0-logloss:0.589835\tvalidation_0-map:0.916358\tvalidation_1-logloss:0.595277\tvalidation_1-map:0.476443\n",
      "[16:31:55] INFO: C:\\Jenkins\\workspace\\xgboost-win64_release_0.90\\src\\tree\\updater_prune.cc:74: tree pruning end, 1 roots, 942 extra nodes, 0 pruned nodes, max_depth=20\n",
      "[22]\tvalidation_0-logloss:0.585933\tvalidation_0-map:0.918055\tvalidation_1-logloss:0.59161\tvalidation_1-map:0.480883\n",
      "[16:31:56] INFO: C:\\Jenkins\\workspace\\xgboost-win64_release_0.90\\src\\tree\\updater_prune.cc:74: tree pruning end, 1 roots, 898 extra nodes, 6 pruned nodes, max_depth=20\n",
      "[23]\tvalidation_0-logloss:0.582102\tvalidation_0-map:0.918099\tvalidation_1-logloss:0.588088\tvalidation_1-map:0.48028\n",
      "[16:31:56] INFO: C:\\Jenkins\\workspace\\xgboost-win64_release_0.90\\src\\tree\\updater_prune.cc:74: tree pruning end, 1 roots, 1018 extra nodes, 8 pruned nodes, max_depth=20\n",
      "[24]\tvalidation_0-logloss:0.578259\tvalidation_0-map:0.919722\tvalidation_1-logloss:0.584563\tvalidation_1-map:0.484204\n",
      "[16:31:57] INFO: C:\\Jenkins\\workspace\\xgboost-win64_release_0.90\\src\\tree\\updater_prune.cc:74: tree pruning end, 1 roots, 878 extra nodes, 8 pruned nodes, max_depth=20\n",
      "[25]\tvalidation_0-logloss:0.574534\tvalidation_0-map:0.920067\tvalidation_1-logloss:0.58111\tvalidation_1-map:0.488256\n",
      "[16:31:58] INFO: C:\\Jenkins\\workspace\\xgboost-win64_release_0.90\\src\\tree\\updater_prune.cc:74: tree pruning end, 1 roots, 934 extra nodes, 6 pruned nodes, max_depth=20\n",
      "[26]\tvalidation_0-logloss:0.570868\tvalidation_0-map:0.920686\tvalidation_1-logloss:0.577704\tvalidation_1-map:0.491018\n",
      "[16:31:58] INFO: C:\\Jenkins\\workspace\\xgboost-win64_release_0.90\\src\\tree\\updater_prune.cc:74: tree pruning end, 1 roots, 960 extra nodes, 16 pruned nodes, max_depth=20\n",
      "[27]\tvalidation_0-logloss:0.567208\tvalidation_0-map:0.921866\tvalidation_1-logloss:0.574339\tvalidation_1-map:0.494039\n",
      "[16:31:59] INFO: C:\\Jenkins\\workspace\\xgboost-win64_release_0.90\\src\\tree\\updater_prune.cc:74: tree pruning end, 1 roots, 952 extra nodes, 8 pruned nodes, max_depth=20\n",
      "[28]\tvalidation_0-logloss:0.563648\tvalidation_0-map:0.922467\tvalidation_1-logloss:0.571098\tvalidation_1-map:0.495709\n"
     ]
    },
    {
     "name": "stdout",
     "output_type": "stream",
     "text": [
      "[16:32:00] INFO: C:\\Jenkins\\workspace\\xgboost-win64_release_0.90\\src\\tree\\updater_prune.cc:74: tree pruning end, 1 roots, 934 extra nodes, 6 pruned nodes, max_depth=20\n",
      "[29]\tvalidation_0-logloss:0.56014\tvalidation_0-map:0.923888\tvalidation_1-logloss:0.567923\tvalidation_1-map:0.501194\n",
      "[16:32:00] INFO: C:\\Jenkins\\workspace\\xgboost-win64_release_0.90\\src\\tree\\updater_prune.cc:74: tree pruning end, 1 roots, 932 extra nodes, 4 pruned nodes, max_depth=20\n",
      "[30]\tvalidation_0-logloss:0.556682\tvalidation_0-map:0.925119\tvalidation_1-logloss:0.564721\tvalidation_1-map:0.507565\n",
      "[16:32:01] INFO: C:\\Jenkins\\workspace\\xgboost-win64_release_0.90\\src\\tree\\updater_prune.cc:74: tree pruning end, 1 roots, 962 extra nodes, 6 pruned nodes, max_depth=20\n",
      "[31]\tvalidation_0-logloss:0.553255\tvalidation_0-map:0.925813\tvalidation_1-logloss:0.561636\tvalidation_1-map:0.50626\n",
      "[16:32:02] INFO: C:\\Jenkins\\workspace\\xgboost-win64_release_0.90\\src\\tree\\updater_prune.cc:74: tree pruning end, 1 roots, 960 extra nodes, 4 pruned nodes, max_depth=20\n",
      "[32]\tvalidation_0-logloss:0.54988\tvalidation_0-map:0.926186\tvalidation_1-logloss:0.558558\tvalidation_1-map:0.510018\n",
      "[16:32:02] INFO: C:\\Jenkins\\workspace\\xgboost-win64_release_0.90\\src\\tree\\updater_prune.cc:74: tree pruning end, 1 roots, 982 extra nodes, 4 pruned nodes, max_depth=20\n",
      "[33]\tvalidation_0-logloss:0.546552\tvalidation_0-map:0.926667\tvalidation_1-logloss:0.555556\tvalidation_1-map:0.509524\n",
      "[16:32:03] INFO: C:\\Jenkins\\workspace\\xgboost-win64_release_0.90\\src\\tree\\updater_prune.cc:74: tree pruning end, 1 roots, 942 extra nodes, 4 pruned nodes, max_depth=20\n",
      "[34]\tvalidation_0-logloss:0.543301\tvalidation_0-map:0.926986\tvalidation_1-logloss:0.552541\tvalidation_1-map:0.511479\n",
      "[16:32:04] INFO: C:\\Jenkins\\workspace\\xgboost-win64_release_0.90\\src\\tree\\updater_prune.cc:74: tree pruning end, 1 roots, 940 extra nodes, 0 pruned nodes, max_depth=20\n",
      "[35]\tvalidation_0-logloss:0.540066\tvalidation_0-map:0.927465\tvalidation_1-logloss:0.54962\tvalidation_1-map:0.511911\n",
      "[16:32:04] INFO: C:\\Jenkins\\workspace\\xgboost-win64_release_0.90\\src\\tree\\updater_prune.cc:74: tree pruning end, 1 roots, 980 extra nodes, 6 pruned nodes, max_depth=20\n",
      "[36]\tvalidation_0-logloss:0.536861\tvalidation_0-map:0.928031\tvalidation_1-logloss:0.546706\tvalidation_1-map:0.513344\n",
      "[16:32:05] INFO: C:\\Jenkins\\workspace\\xgboost-win64_release_0.90\\src\\tree\\updater_prune.cc:74: tree pruning end, 1 roots, 978 extra nodes, 0 pruned nodes, max_depth=20\n",
      "[37]\tvalidation_0-logloss:0.533728\tvalidation_0-map:0.928554\tvalidation_1-logloss:0.543889\tvalidation_1-map:0.513312\n",
      "[16:32:05] INFO: C:\\Jenkins\\workspace\\xgboost-win64_release_0.90\\src\\tree\\updater_prune.cc:74: tree pruning end, 1 roots, 920 extra nodes, 2 pruned nodes, max_depth=20\n",
      "[38]\tvalidation_0-logloss:0.530666\tvalidation_0-map:0.928925\tvalidation_1-logloss:0.541088\tvalidation_1-map:0.514343\n",
      "[16:32:06] INFO: C:\\Jenkins\\workspace\\xgboost-win64_release_0.90\\src\\tree\\updater_prune.cc:74: tree pruning end, 1 roots, 976 extra nodes, 0 pruned nodes, max_depth=20\n",
      "[39]\tvalidation_0-logloss:0.527612\tvalidation_0-map:0.929244\tvalidation_1-logloss:0.538343\tvalidation_1-map:0.515211\n",
      "[16:32:07] INFO: C:\\Jenkins\\workspace\\xgboost-win64_release_0.90\\src\\tree\\updater_prune.cc:74: tree pruning end, 1 roots, 946 extra nodes, 0 pruned nodes, max_depth=20\n",
      "[40]\tvalidation_0-logloss:0.524596\tvalidation_0-map:0.929463\tvalidation_1-logloss:0.535613\tvalidation_1-map:0.515637\n",
      "[16:32:07] INFO: C:\\Jenkins\\workspace\\xgboost-win64_release_0.90\\src\\tree\\updater_prune.cc:74: tree pruning end, 1 roots, 960 extra nodes, 2 pruned nodes, max_depth=20\n",
      "[41]\tvalidation_0-logloss:0.521648\tvalidation_0-map:0.929782\tvalidation_1-logloss:0.53293\tvalidation_1-map:0.515878\n",
      "[16:32:08] INFO: C:\\Jenkins\\workspace\\xgboost-win64_release_0.90\\src\\tree\\updater_prune.cc:74: tree pruning end, 1 roots, 960 extra nodes, 6 pruned nodes, max_depth=20\n",
      "[42]\tvalidation_0-logloss:0.518713\tvalidation_0-map:0.929901\tvalidation_1-logloss:0.530289\tvalidation_1-map:0.515852\n",
      "[16:32:09] INFO: C:\\Jenkins\\workspace\\xgboost-win64_release_0.90\\src\\tree\\updater_prune.cc:74: tree pruning end, 1 roots, 942 extra nodes, 0 pruned nodes, max_depth=20\n",
      "[43]\tvalidation_0-logloss:0.515847\tvalidation_0-map:0.93002\tvalidation_1-logloss:0.527717\tvalidation_1-map:0.51437\n",
      "[16:32:10] INFO: C:\\Jenkins\\workspace\\xgboost-win64_release_0.90\\src\\tree\\updater_prune.cc:74: tree pruning end, 1 roots, 926 extra nodes, 6 pruned nodes, max_depth=20\n",
      "[44]\tvalidation_0-logloss:0.513058\tvalidation_0-map:0.930273\tvalidation_1-logloss:0.525173\tvalidation_1-map:0.516788\n",
      "[16:32:10] INFO: C:\\Jenkins\\workspace\\xgboost-win64_release_0.90\\src\\tree\\updater_prune.cc:74: tree pruning end, 1 roots, 972 extra nodes, 6 pruned nodes, max_depth=20\n",
      "[45]\tvalidation_0-logloss:0.510225\tvalidation_0-map:0.931032\tvalidation_1-logloss:0.522635\tvalidation_1-map:0.518296\n",
      "[16:32:11] INFO: C:\\Jenkins\\workspace\\xgboost-win64_release_0.90\\src\\tree\\updater_prune.cc:74: tree pruning end, 1 roots, 960 extra nodes, 2 pruned nodes, max_depth=20\n",
      "[46]\tvalidation_0-logloss:0.507461\tvalidation_0-map:0.931296\tvalidation_1-logloss:0.520147\tvalidation_1-map:0.518958\n",
      "[16:32:12] INFO: C:\\Jenkins\\workspace\\xgboost-win64_release_0.90\\src\\tree\\updater_prune.cc:74: tree pruning end, 1 roots, 968 extra nodes, 10 pruned nodes, max_depth=20\n",
      "[47]\tvalidation_0-logloss:0.504739\tvalidation_0-map:0.932131\tvalidation_1-logloss:0.517706\tvalidation_1-map:0.520897\n",
      "[16:32:12] INFO: C:\\Jenkins\\workspace\\xgboost-win64_release_0.90\\src\\tree\\updater_prune.cc:74: tree pruning end, 1 roots, 906 extra nodes, 2 pruned nodes, max_depth=20\n",
      "[48]\tvalidation_0-logloss:0.502098\tvalidation_0-map:0.932209\tvalidation_1-logloss:0.515319\tvalidation_1-map:0.520566\n",
      "[16:32:13] INFO: C:\\Jenkins\\workspace\\xgboost-win64_release_0.90\\src\\tree\\updater_prune.cc:74: tree pruning end, 1 roots, 974 extra nodes, 6 pruned nodes, max_depth=20\n",
      "[49]\tvalidation_0-logloss:0.499457\tvalidation_0-map:0.932844\tvalidation_1-logloss:0.512957\tvalidation_1-map:0.52217\n",
      "[16:32:14] INFO: C:\\Jenkins\\workspace\\xgboost-win64_release_0.90\\src\\tree\\updater_prune.cc:74: tree pruning end, 1 roots, 944 extra nodes, 2 pruned nodes, max_depth=20\n",
      "[50]\tvalidation_0-logloss:0.496844\tvalidation_0-map:0.93308\tvalidation_1-logloss:0.510622\tvalidation_1-map:0.522574\n",
      "[16:32:14] INFO: C:\\Jenkins\\workspace\\xgboost-win64_release_0.90\\src\\tree\\updater_prune.cc:74: tree pruning end, 1 roots, 996 extra nodes, 6 pruned nodes, max_depth=20\n",
      "[51]\tvalidation_0-logloss:0.494249\tvalidation_0-map:0.933797\tvalidation_1-logloss:0.508321\tvalidation_1-map:0.524047\n",
      "[16:32:15] INFO: C:\\Jenkins\\workspace\\xgboost-win64_release_0.90\\src\\tree\\updater_prune.cc:74: tree pruning end, 1 roots, 946 extra nodes, 8 pruned nodes, max_depth=20\n",
      "[52]\tvalidation_0-logloss:0.491672\tvalidation_0-map:0.934221\tvalidation_1-logloss:0.506045\tvalidation_1-map:0.524505\n",
      "[16:32:15] INFO: C:\\Jenkins\\workspace\\xgboost-win64_release_0.90\\src\\tree\\updater_prune.cc:74: tree pruning end, 1 roots, 962 extra nodes, 6 pruned nodes, max_depth=20\n",
      "[53]\tvalidation_0-logloss:0.489177\tvalidation_0-map:0.93476\tvalidation_1-logloss:0.503828\tvalidation_1-map:0.526602\n",
      "[16:32:16] INFO: C:\\Jenkins\\workspace\\xgboost-win64_release_0.90\\src\\tree\\updater_prune.cc:74: tree pruning end, 1 roots, 938 extra nodes, 8 pruned nodes, max_depth=20\n",
      "[54]\tvalidation_0-logloss:0.48668\tvalidation_0-map:0.935103\tvalidation_1-logloss:0.501648\tvalidation_1-map:0.527078\n",
      "[16:32:17] INFO: C:\\Jenkins\\workspace\\xgboost-win64_release_0.90\\src\\tree\\updater_prune.cc:74: tree pruning end, 1 roots, 962 extra nodes, 10 pruned nodes, max_depth=20\n",
      "[55]\tvalidation_0-logloss:0.484246\tvalidation_0-map:0.935563\tvalidation_1-logloss:0.499511\tvalidation_1-map:0.528345\n",
      "[16:32:17] INFO: C:\\Jenkins\\workspace\\xgboost-win64_release_0.90\\src\\tree\\updater_prune.cc:74: tree pruning end, 1 roots, 916 extra nodes, 14 pruned nodes, max_depth=20\n",
      "[56]\tvalidation_0-logloss:0.481841\tvalidation_0-map:0.93589\tvalidation_1-logloss:0.497384\tvalidation_1-map:0.529303\n",
      "[16:32:18] INFO: C:\\Jenkins\\workspace\\xgboost-win64_release_0.90\\src\\tree\\updater_prune.cc:74: tree pruning end, 1 roots, 978 extra nodes, 6 pruned nodes, max_depth=20\n",
      "[57]\tvalidation_0-logloss:0.479414\tvalidation_0-map:0.936396\tvalidation_1-logloss:0.495243\tvalidation_1-map:0.530892\n"
     ]
    },
    {
     "name": "stdout",
     "output_type": "stream",
     "text": [
      "[16:32:19] INFO: C:\\Jenkins\\workspace\\xgboost-win64_release_0.90\\src\\tree\\updater_prune.cc:74: tree pruning end, 1 roots, 982 extra nodes, 8 pruned nodes, max_depth=20\n",
      "[58]\tvalidation_0-logloss:0.477028\tvalidation_0-map:0.937037\tvalidation_1-logloss:0.493123\tvalidation_1-map:0.532645\n",
      "[16:32:19] INFO: C:\\Jenkins\\workspace\\xgboost-win64_release_0.90\\src\\tree\\updater_prune.cc:74: tree pruning end, 1 roots, 858 extra nodes, 2 pruned nodes, max_depth=20\n",
      "[59]\tvalidation_0-logloss:0.474736\tvalidation_0-map:0.937237\tvalidation_1-logloss:0.491104\tvalidation_1-map:0.533122\n",
      "[16:32:20] INFO: C:\\Jenkins\\workspace\\xgboost-win64_release_0.90\\src\\tree\\updater_prune.cc:74: tree pruning end, 1 roots, 1022 extra nodes, 4 pruned nodes, max_depth=20\n",
      "[60]\tvalidation_0-logloss:0.472416\tvalidation_0-map:0.9377\tvalidation_1-logloss:0.489067\tvalidation_1-map:0.535616\n",
      "[16:32:20] INFO: C:\\Jenkins\\workspace\\xgboost-win64_release_0.90\\src\\tree\\updater_prune.cc:74: tree pruning end, 1 roots, 890 extra nodes, 12 pruned nodes, max_depth=20\n",
      "[61]\tvalidation_0-logloss:0.47017\tvalidation_0-map:0.93792\tvalidation_1-logloss:0.487098\tvalidation_1-map:0.535512\n",
      "[16:32:21] INFO: C:\\Jenkins\\workspace\\xgboost-win64_release_0.90\\src\\tree\\updater_prune.cc:74: tree pruning end, 1 roots, 1028 extra nodes, 4 pruned nodes, max_depth=20\n",
      "[62]\tvalidation_0-logloss:0.467865\tvalidation_0-map:0.93839\tvalidation_1-logloss:0.485092\tvalidation_1-map:0.536388\n",
      "[16:32:22] INFO: C:\\Jenkins\\workspace\\xgboost-win64_release_0.90\\src\\tree\\updater_prune.cc:74: tree pruning end, 1 roots, 890 extra nodes, 8 pruned nodes, max_depth=20\n",
      "[63]\tvalidation_0-logloss:0.465678\tvalidation_0-map:0.938552\tvalidation_1-logloss:0.483184\tvalidation_1-map:0.536107\n",
      "[16:32:22] INFO: C:\\Jenkins\\workspace\\xgboost-win64_release_0.90\\src\\tree\\updater_prune.cc:74: tree pruning end, 1 roots, 990 extra nodes, 2 pruned nodes, max_depth=20\n",
      "[64]\tvalidation_0-logloss:0.463489\tvalidation_0-map:0.938898\tvalidation_1-logloss:0.481272\tvalidation_1-map:0.537307\n",
      "[16:32:23] INFO: C:\\Jenkins\\workspace\\xgboost-win64_release_0.90\\src\\tree\\updater_prune.cc:74: tree pruning end, 1 roots, 1008 extra nodes, 4 pruned nodes, max_depth=20\n",
      "[65]\tvalidation_0-logloss:0.461295\tvalidation_0-map:0.939202\tvalidation_1-logloss:0.479356\tvalidation_1-map:0.53833\n",
      "[16:32:24] INFO: C:\\Jenkins\\workspace\\xgboost-win64_release_0.90\\src\\tree\\updater_prune.cc:74: tree pruning end, 1 roots, 902 extra nodes, 12 pruned nodes, max_depth=20\n",
      "[66]\tvalidation_0-logloss:0.459179\tvalidation_0-map:0.939582\tvalidation_1-logloss:0.477516\tvalidation_1-map:0.539413\n",
      "[16:32:24] INFO: C:\\Jenkins\\workspace\\xgboost-win64_release_0.90\\src\\tree\\updater_prune.cc:74: tree pruning end, 1 roots, 984 extra nodes, 6 pruned nodes, max_depth=20\n",
      "[67]\tvalidation_0-logloss:0.457079\tvalidation_0-map:0.939835\tvalidation_1-logloss:0.475667\tvalidation_1-map:0.540577\n",
      "[16:32:25] INFO: C:\\Jenkins\\workspace\\xgboost-win64_release_0.90\\src\\tree\\updater_prune.cc:74: tree pruning end, 1 roots, 958 extra nodes, 12 pruned nodes, max_depth=20\n",
      "[68]\tvalidation_0-logloss:0.454948\tvalidation_0-map:0.940191\tvalidation_1-logloss:0.47386\tvalidation_1-map:0.541618\n",
      "[16:32:26] INFO: C:\\Jenkins\\workspace\\xgboost-win64_release_0.90\\src\\tree\\updater_prune.cc:74: tree pruning end, 1 roots, 946 extra nodes, 6 pruned nodes, max_depth=20\n",
      "[69]\tvalidation_0-logloss:0.452911\tvalidation_0-map:0.940533\tvalidation_1-logloss:0.472098\tvalidation_1-map:0.54202\n",
      "[16:32:26] INFO: C:\\Jenkins\\workspace\\xgboost-win64_release_0.90\\src\\tree\\updater_prune.cc:74: tree pruning end, 1 roots, 928 extra nodes, 4 pruned nodes, max_depth=20\n",
      "[70]\tvalidation_0-logloss:0.450855\tvalidation_0-map:0.94081\tvalidation_1-logloss:0.470349\tvalidation_1-map:0.542955\n",
      "[16:32:27] INFO: C:\\Jenkins\\workspace\\xgboost-win64_release_0.90\\src\\tree\\updater_prune.cc:74: tree pruning end, 1 roots, 922 extra nodes, 14 pruned nodes, max_depth=20\n",
      "[71]\tvalidation_0-logloss:0.448858\tvalidation_0-map:0.941069\tvalidation_1-logloss:0.468635\tvalidation_1-map:0.543302\n",
      "[16:32:27] INFO: C:\\Jenkins\\workspace\\xgboost-win64_release_0.90\\src\\tree\\updater_prune.cc:74: tree pruning end, 1 roots, 986 extra nodes, 6 pruned nodes, max_depth=20\n",
      "[72]\tvalidation_0-logloss:0.44684\tvalidation_0-map:0.941432\tvalidation_1-logloss:0.466925\tvalidation_1-map:0.543822\n",
      "[16:32:28] INFO: C:\\Jenkins\\workspace\\xgboost-win64_release_0.90\\src\\tree\\updater_prune.cc:74: tree pruning end, 1 roots, 936 extra nodes, 12 pruned nodes, max_depth=20\n",
      "[73]\tvalidation_0-logloss:0.444903\tvalidation_0-map:0.941774\tvalidation_1-logloss:0.465244\tvalidation_1-map:0.544659\n",
      "[16:32:29] INFO: C:\\Jenkins\\workspace\\xgboost-win64_release_0.90\\src\\tree\\updater_prune.cc:74: tree pruning end, 1 roots, 934 extra nodes, 8 pruned nodes, max_depth=20\n",
      "[74]\tvalidation_0-logloss:0.44294\tvalidation_0-map:0.942004\tvalidation_1-logloss:0.4636\tvalidation_1-map:0.54522\n",
      "[16:32:29] INFO: C:\\Jenkins\\workspace\\xgboost-win64_release_0.90\\src\\tree\\updater_prune.cc:74: tree pruning end, 1 roots, 896 extra nodes, 8 pruned nodes, max_depth=20\n",
      "[75]\tvalidation_0-logloss:0.441085\tvalidation_0-map:0.942248\tvalidation_1-logloss:0.461947\tvalidation_1-map:0.546012\n",
      "[16:32:30] INFO: C:\\Jenkins\\workspace\\xgboost-win64_release_0.90\\src\\tree\\updater_prune.cc:74: tree pruning end, 1 roots, 972 extra nodes, 16 pruned nodes, max_depth=20\n",
      "[76]\tvalidation_0-logloss:0.43921\tvalidation_0-map:0.942522\tvalidation_1-logloss:0.460329\tvalidation_1-map:0.547105\n",
      "[16:32:31] INFO: C:\\Jenkins\\workspace\\xgboost-win64_release_0.90\\src\\tree\\updater_prune.cc:74: tree pruning end, 1 roots, 948 extra nodes, 8 pruned nodes, max_depth=20\n",
      "[77]\tvalidation_0-logloss:0.4373\tvalidation_0-map:0.942759\tvalidation_1-logloss:0.4587\tvalidation_1-map:0.547734\n",
      "[16:32:31] INFO: C:\\Jenkins\\workspace\\xgboost-win64_release_0.90\\src\\tree\\updater_prune.cc:74: tree pruning end, 1 roots, 932 extra nodes, 8 pruned nodes, max_depth=20\n",
      "[78]\tvalidation_0-logloss:0.435421\tvalidation_0-map:0.942998\tvalidation_1-logloss:0.457073\tvalidation_1-map:0.548056\n",
      "[16:32:32] INFO: C:\\Jenkins\\workspace\\xgboost-win64_release_0.90\\src\\tree\\updater_prune.cc:74: tree pruning end, 1 roots, 912 extra nodes, 4 pruned nodes, max_depth=20\n",
      "[79]\tvalidation_0-logloss:0.433583\tvalidation_0-map:0.943212\tvalidation_1-logloss:0.45551\tvalidation_1-map:0.548691\n",
      "[16:32:33] INFO: C:\\Jenkins\\workspace\\xgboost-win64_release_0.90\\src\\tree\\updater_prune.cc:74: tree pruning end, 1 roots, 936 extra nodes, 10 pruned nodes, max_depth=20\n",
      "[80]\tvalidation_0-logloss:0.43178\tvalidation_0-map:0.943499\tvalidation_1-logloss:0.453953\tvalidation_1-map:0.549574\n",
      "[16:32:33] INFO: C:\\Jenkins\\workspace\\xgboost-win64_release_0.90\\src\\tree\\updater_prune.cc:74: tree pruning end, 1 roots, 946 extra nodes, 14 pruned nodes, max_depth=20\n",
      "[81]\tvalidation_0-logloss:0.430002\tvalidation_0-map:0.943752\tvalidation_1-logloss:0.452407\tvalidation_1-map:0.550333\n",
      "[16:32:34] INFO: C:\\Jenkins\\workspace\\xgboost-win64_release_0.90\\src\\tree\\updater_prune.cc:74: tree pruning end, 1 roots, 916 extra nodes, 6 pruned nodes, max_depth=20\n",
      "[82]\tvalidation_0-logloss:0.428189\tvalidation_0-map:0.944036\tvalidation_1-logloss:0.450861\tvalidation_1-map:0.551102\n",
      "[16:32:35] INFO: C:\\Jenkins\\workspace\\xgboost-win64_release_0.90\\src\\tree\\updater_prune.cc:74: tree pruning end, 1 roots, 996 extra nodes, 14 pruned nodes, max_depth=20\n",
      "[83]\tvalidation_0-logloss:0.42642\tvalidation_0-map:0.944351\tvalidation_1-logloss:0.449322\tvalidation_1-map:0.552304\n",
      "[16:32:35] INFO: C:\\Jenkins\\workspace\\xgboost-win64_release_0.90\\src\\tree\\updater_prune.cc:74: tree pruning end, 1 roots, 936 extra nodes, 10 pruned nodes, max_depth=20\n",
      "[84]\tvalidation_0-logloss:0.424665\tvalidation_0-map:0.94463\tvalidation_1-logloss:0.447811\tvalidation_1-map:0.553123\n",
      "[16:32:36] INFO: C:\\Jenkins\\workspace\\xgboost-win64_release_0.90\\src\\tree\\updater_prune.cc:74: tree pruning end, 1 roots, 974 extra nodes, 8 pruned nodes, max_depth=20\n",
      "[85]\tvalidation_0-logloss:0.422961\tvalidation_0-map:0.944842\tvalidation_1-logloss:0.446368\tvalidation_1-map:0.553662\n",
      "[16:32:37] INFO: C:\\Jenkins\\workspace\\xgboost-win64_release_0.90\\src\\tree\\updater_prune.cc:74: tree pruning end, 1 roots, 892 extra nodes, 4 pruned nodes, max_depth=20\n",
      "[86]\tvalidation_0-logloss:0.421223\tvalidation_0-map:0.945055\tvalidation_1-logloss:0.444872\tvalidation_1-map:0.554608\n"
     ]
    },
    {
     "name": "stdout",
     "output_type": "stream",
     "text": [
      "[16:32:37] INFO: C:\\Jenkins\\workspace\\xgboost-win64_release_0.90\\src\\tree\\updater_prune.cc:74: tree pruning end, 1 roots, 976 extra nodes, 4 pruned nodes, max_depth=20\n",
      "[87]\tvalidation_0-logloss:0.419501\tvalidation_0-map:0.945306\tvalidation_1-logloss:0.443388\tvalidation_1-map:0.555344\n",
      "[16:32:38] INFO: C:\\Jenkins\\workspace\\xgboost-win64_release_0.90\\src\\tree\\updater_prune.cc:74: tree pruning end, 1 roots, 952 extra nodes, 8 pruned nodes, max_depth=20\n",
      "[88]\tvalidation_0-logloss:0.417811\tvalidation_0-map:0.945544\tvalidation_1-logloss:0.441945\tvalidation_1-map:0.556541\n",
      "[16:32:39] INFO: C:\\Jenkins\\workspace\\xgboost-win64_release_0.90\\src\\tree\\updater_prune.cc:74: tree pruning end, 1 roots, 908 extra nodes, 2 pruned nodes, max_depth=20\n",
      "[89]\tvalidation_0-logloss:0.416124\tvalidation_0-map:0.945755\tvalidation_1-logloss:0.440536\tvalidation_1-map:0.556882\n",
      "[16:32:39] INFO: C:\\Jenkins\\workspace\\xgboost-win64_release_0.90\\src\\tree\\updater_prune.cc:74: tree pruning end, 1 roots, 952 extra nodes, 4 pruned nodes, max_depth=20\n",
      "[90]\tvalidation_0-logloss:0.414467\tvalidation_0-map:0.946001\tvalidation_1-logloss:0.439124\tvalidation_1-map:0.557516\n",
      "[16:32:40] INFO: C:\\Jenkins\\workspace\\xgboost-win64_release_0.90\\src\\tree\\updater_prune.cc:74: tree pruning end, 1 roots, 952 extra nodes, 6 pruned nodes, max_depth=20\n",
      "[91]\tvalidation_0-logloss:0.41283\tvalidation_0-map:0.946199\tvalidation_1-logloss:0.437775\tvalidation_1-map:0.55804\n",
      "[16:32:41] INFO: C:\\Jenkins\\workspace\\xgboost-win64_release_0.90\\src\\tree\\updater_prune.cc:74: tree pruning end, 1 roots, 954 extra nodes, 6 pruned nodes, max_depth=20\n",
      "[92]\tvalidation_0-logloss:0.411194\tvalidation_0-map:0.946419\tvalidation_1-logloss:0.43643\tvalidation_1-map:0.558492\n",
      "[16:32:41] INFO: C:\\Jenkins\\workspace\\xgboost-win64_release_0.90\\src\\tree\\updater_prune.cc:74: tree pruning end, 1 roots, 952 extra nodes, 8 pruned nodes, max_depth=20\n",
      "[93]\tvalidation_0-logloss:0.409614\tvalidation_0-map:0.946666\tvalidation_1-logloss:0.43509\tvalidation_1-map:0.559485\n",
      "[16:32:42] INFO: C:\\Jenkins\\workspace\\xgboost-win64_release_0.90\\src\\tree\\updater_prune.cc:74: tree pruning end, 1 roots, 902 extra nodes, 6 pruned nodes, max_depth=20\n",
      "[94]\tvalidation_0-logloss:0.408038\tvalidation_0-map:0.946879\tvalidation_1-logloss:0.433787\tvalidation_1-map:0.559819\n",
      "[16:32:43] INFO: C:\\Jenkins\\workspace\\xgboost-win64_release_0.90\\src\\tree\\updater_prune.cc:74: tree pruning end, 1 roots, 938 extra nodes, 6 pruned nodes, max_depth=20\n",
      "[95]\tvalidation_0-logloss:0.406475\tvalidation_0-map:0.947068\tvalidation_1-logloss:0.432496\tvalidation_1-map:0.560482\n",
      "[16:32:44] INFO: C:\\Jenkins\\workspace\\xgboost-win64_release_0.90\\src\\tree\\updater_prune.cc:74: tree pruning end, 1 roots, 888 extra nodes, 4 pruned nodes, max_depth=20\n",
      "[96]\tvalidation_0-logloss:0.404977\tvalidation_0-map:0.947204\tvalidation_1-logloss:0.431229\tvalidation_1-map:0.561274\n",
      "[16:32:44] INFO: C:\\Jenkins\\workspace\\xgboost-win64_release_0.90\\src\\tree\\updater_prune.cc:74: tree pruning end, 1 roots, 938 extra nodes, 6 pruned nodes, max_depth=20\n",
      "[97]\tvalidation_0-logloss:0.403456\tvalidation_0-map:0.947362\tvalidation_1-logloss:0.429973\tvalidation_1-map:0.561776\n",
      "[16:32:45] INFO: C:\\Jenkins\\workspace\\xgboost-win64_release_0.90\\src\\tree\\updater_prune.cc:74: tree pruning end, 1 roots, 856 extra nodes, 4 pruned nodes, max_depth=20\n",
      "[98]\tvalidation_0-logloss:0.401941\tvalidation_0-map:0.947551\tvalidation_1-logloss:0.428696\tvalidation_1-map:0.562199\n",
      "[16:32:45] INFO: C:\\Jenkins\\workspace\\xgboost-win64_release_0.90\\src\\tree\\updater_prune.cc:74: tree pruning end, 1 roots, 898 extra nodes, 6 pruned nodes, max_depth=20\n",
      "[99]\tvalidation_0-logloss:0.400482\tvalidation_0-map:0.94768\tvalidation_1-logloss:0.427509\tvalidation_1-map:0.562322\n",
      "roc-auc train score: 0.9514671077795598\n",
      "roc-auc score: 0.8988141417378985\n",
      "precision: 0.350375234521576\n",
      "recall: 0.8110749185667753\n",
      "f1 score: 0.48935473304945953\n"
     ]
    },
    {
     "data": {
      "text/plain": [
       "['model.joblib']"
      ]
     },
     "execution_count": 34,
     "metadata": {},
     "output_type": "execute_result"
    }
   ],
   "source": [
    "metrics = ['logloss','map']\n",
    "\n",
    "model = XGBClassifier(\n",
    "    random_state=RANDOM_STATE,\n",
    "    max_depth=20,\n",
    "    n_estimators=100,\n",
    "    verbosity=2,\n",
    "    booster='gbtree',\n",
    "    n_jobs=4,\n",
    "    gamma=0.2,\n",
    "    subsample=1,\n",
    "    min_child_weight= 20,\n",
    "    learning_rate=0.01,\n",
    "    seed=RANDOM_STATE)\n",
    "model.fit(rp_train_x,rtrain_y,eval_set=[(rp_train_x,rtrain_y),(p_val_x, val_y)],eval_metric=metrics)\n",
    "pr = model.predict(p_val_x)\n",
    "print(f'roc-auc train score: {roc_auc_score(train_y,model.predict_proba(p_train_x)[:,1])}')\n",
    "print(f'roc-auc score: {roc_auc_score(val_y,model.predict_proba(p_val_x)[:,1])}')\n",
    "print(f'precision: {precision_score(val_y,pr)}')\n",
    "print(f'recall: {recall_score(val_y,pr)}')\n",
    "print(f'f1 score: {f1_score(val_y,pr)}')\n",
    "dump(model,'model.joblib')"
   ]
  },
  {
   "cell_type": "code",
   "execution_count": 35,
   "metadata": {
    "ExecuteTime": {
     "end_time": "2019-12-04T13:32:50.061967Z",
     "start_time": "2019-12-04T13:32:49.781113Z"
    }
   },
   "outputs": [
    {
     "data": {
      "image/png": "[encoded data removed]",
      "text/plain": [
       "<Figure size 432x288 with 1 Axes>"
      ]
     },
     "metadata": {
      "needs_background": "light"
     },
     "output_type": "display_data"
    },
    {
     "data": {
      "image/png": "[encoded data removed]",
      "text/plain": [
       "<Figure size 432x288 with 1 Axes>"
      ]
     },
     "metadata": {
      "needs_background": "light"
     },
     "output_type": "display_data"
    }
   ],
   "source": [
    "show_history(model,metrics)"
   ]
  },
  {
   "cell_type": "code",
   "execution_count": 41,
   "metadata": {
    "ExecuteTime": {
     "end_time": "2019-12-04T13:33:30.718010Z",
     "start_time": "2019-12-04T13:33:22.060218Z"
    },
    "scrolled": false
   },
   "outputs": [],
   "source": [
    "test = read_csv(PRED_FILENAME,header=None)\n",
    "res = test.iloc[:,0]\n",
    "\n",
    "is_titled = res.map(str.istitle).astype(float)\n",
    "res = res.map(custom_stem)\n",
    "lens = res.map(len)\n",
    "\n",
    "a_f = np.stack((is_titled,lens),axis=1)\n",
    "p_res = vect.transform(res)\n",
    "p_res = csr_matrix(np.concatenate((p_res.toarray(),a_f),axis=1))\n",
    "\n",
    "test_prediction = model.predict_proba(p_res)[:,1]\n",
    "if len(test_prediction) == 188920:\n",
    "    DataFrame(test_prediction.astype(float),columns=['Answer']).to_csv(r'res9.txt',index_label='Id')\n",
    "else:\n",
    "    print('err')"
   ]
  },
  {
   "cell_type": "code",
   "execution_count": 36,
   "metadata": {
    "ExecuteTime": {
     "end_time": "2019-12-04T13:32:56.751591Z",
     "start_time": "2019-12-04T13:32:54.143086Z"
    }
   },
   "outputs": [
    {
     "name": "stdout",
     "output_type": "stream",
     "text": [
      "<class 'scipy.sparse.csr.csr_matrix'>\n",
      "count features: 271\n"
     ]
    }
   ],
   "source": [
    "#feature selection\n",
    "usful_features = model.feature_importances_[:-2] != 0\n",
    "ind_f_map = {v: k for k, v in vect.vocabulary_.items()}\n",
    "u_f = []\n",
    "for i,cond in enumerate(usful_features):\n",
    "    if cond:\n",
    "        u_f.append(ind_f_map[i])\n",
    "        \n",
    "dump(u_f,'selected_features.joblib')\n",
    "\n",
    "#feature reporcessing\n",
    "vect = TfidfVectorizer(analyzer='char_wb',ngram_range=(2,2),strip_accents='unicode',vocabulary=u_f)\n",
    "vect.fit_transform(train_x)\n",
    "p_train_x = vect.transform(train_x)\n",
    "p_val_x = vect.transform(val_x)\n",
    "print(type(p_train_x))\n",
    "print(f'count features: {p_train_x.shape[1]}')"
   ]
  },
  {
   "cell_type": "code",
   "execution_count": null,
   "metadata": {},
   "outputs": [],
   "source": []
  }
 ],
 "metadata": {
  "kernelspec": {
   "display_name": "Python 3",
   "language": "python",
   "name": "python3"
  },
  "language_info": {
   "codemirror_mode": {
    "name": "ipython",
    "version": 3
   },
   "file_extension": ".py",
   "mimetype": "text/x-python",
   "name": "python",
   "nbconvert_exporter": "python",
   "pygments_lexer": "ipython3",
   "version": "3.7.3"
  },
  "varInspector": {
   "cols": {
    "lenName": 16,
    "lenType": 16,
    "lenVar": 40
   },
   "kernels_config": {
    "python": {
     "delete_cmd_postfix": "",
     "delete_cmd_prefix": "del ",
     "library": "var_list.py",
     "varRefreshCmd": "print(var_dic_list())"
    },
    "r": {
     "delete_cmd_postfix": ") ",
     "delete_cmd_prefix": "rm(",
     "library": "var_list.r",
     "varRefreshCmd": "cat(var_dic_list()) "
    }
   },
   "types_to_exclude": [
    "module",
    "function",
    "builtin_function_or_method",
    "instance",
    "_Feature"
   ],
   "window_display": false
  }
 },
 "nbformat": 4,
 "nbformat_minor": 2
}
